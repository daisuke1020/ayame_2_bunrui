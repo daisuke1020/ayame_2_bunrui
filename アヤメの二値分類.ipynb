{
 "cells": [
  {
   "cell_type": "markdown",
   "id": "0eade3e7",
   "metadata": {},
   "source": [
    "【課題1】練習のために特徴量とカテゴリを選択"
   ]
  },
  {
   "cell_type": "code",
   "execution_count": 87,
   "id": "94d11db7",
   "metadata": {},
   "outputs": [
    {
     "name": "stdout",
     "output_type": "stream",
     "text": [
      "     sepal_length  petal_length  Species\n",
      "50            7.0           4.7        1\n",
      "51            6.4           4.5        1\n",
      "52            6.9           4.9        1\n",
      "53            5.5           4.0        1\n",
      "54            6.5           4.6        1\n",
      "..            ...           ...      ...\n",
      "145           6.7           5.2        2\n",
      "146           6.3           5.0        2\n",
      "147           6.5           5.2        2\n",
      "148           6.2           5.4        2\n",
      "149           5.9           5.1        2\n",
      "\n",
      "[100 rows x 3 columns]\n"
     ]
    }
   ],
   "source": [
    "import pandas as pd\n",
    "import numpy as np\n",
    "from sklearn.datasets import load_iris\n",
    "\n",
    "iris = load_iris()\n",
    "X = pd.DataFrame(iris.data,columns=[\"sepal_length\",\"sepal_width\",\"petal_length\",\"petal_width\"] )\n",
    "Y = pd.DataFrame(iris.target,columns=[\"Species\"])\n",
    "df = pd.concat([X,Y],axis=1)\n",
    "\n",
    "sample_data = df.loc[50:149,[\"sepal_length\",\"petal_length\",\"Species\"]]\n",
    "print(sample_data)"
   ]
  },
  {
   "cell_type": "markdown",
   "id": "dec5e235",
   "metadata": {},
   "source": [
    "【問題2】データの分析"
   ]
  },
  {
   "cell_type": "code",
   "execution_count": 88,
   "id": "228d9786",
   "metadata": {},
   "outputs": [
    {
     "data": {
      "image/png": "[encoded data removed]",
      "text/plain": [
       "<Figure size 432x288 with 1 Axes>"
      ]
     },
     "metadata": {
      "needs_background": "light"
     },
     "output_type": "display_data"
    },
    {
     "data": {
      "image/png": "[encoded data removed]",
      "text/plain": [
       "<Figure size 432x288 with 1 Axes>"
      ]
     },
     "metadata": {
      "needs_background": "light"
     },
     "output_type": "display_data"
    },
    {
     "data": {
      "image/png": "[encoded data removed]",
      "text/plain": [
       "<Figure size 432x288 with 1 Axes>"
      ]
     },
     "metadata": {
      "needs_background": "light"
     },
     "output_type": "display_data"
    },
    {
     "data": {
      "image/png": "[encoded data removed]",
      "text/plain": [
       "<Figure size 432x288 with 1 Axes>"
      ]
     },
     "metadata": {
      "needs_background": "light"
     },
     "output_type": "display_data"
    }
   ],
   "source": [
    "import matplotlib.pyplot as plt\n",
    "%matplotlib inline\n",
    "\n",
    "sepal_length_list = sample_data.loc[50:99,\"sepal_length\"]\n",
    "sepal_length_list2 = sample_data.loc[100:149,\"sepal_length\"]\n",
    "petal_length = sample_data.loc[50:99,\"petal_length\"]\n",
    "petal_length2 = sample_data.loc[100:149,\"petal_length\"]\n",
    "Species_1 =sample_data.loc[50:149,\"Species\"]\n",
    "\n",
    "iris_list =(sepal_length_list,petal_length)\n",
    "iris_list2 =(sepal_length_list2,petal_length2)\n",
    "\n",
    "#箱ひげ図（boxplot\n",
    "plt.title(\"virgicolor\")\n",
    "plt.xticks([1,2],[\"sepal_length\",\"petal_length\"])\n",
    "\n",
    "plt.ylim([2,8])\n",
    "plt.xlim([0,3])\n",
    "plt.grid()\n",
    "plt.boxplot(iris_list,labels =[\"sepal_length\",\"petal_length\"])  # 「リスト名」のところにリストの変数名を入れる\n",
    "plt.show()  # com + con + enter\n",
    "\n",
    "plt.title(\"virginica\")\n",
    "plt.xticks([1,2],[\"sepal_length\",\"petal_length\"])\n",
    "plt.ylim([2,8])\n",
    "plt.xlim([0,3])\n",
    "plt.grid()\n",
    "plt.boxplot(iris_list2,labels =[\"sepal_length\",\"petal_length\"])  # 「リスト名」のところにリストの変数名を入れる\n",
    "plt.show()  # com + con + enter\n",
    "\n",
    "#バイオリン図（violinplot\n",
    "plt.title(\"virgicolor\")\n",
    "plt.xticks([1,2],[\"sepal_length\",\"petal_length\"])\n",
    "plt.ylim([2,8])\n",
    "plt.xlim([0,3])\n",
    "plt.grid()\n",
    "plt.violinplot(iris_list,showmedians=True)  # 「リスト名」のところにリストの変数名を入れる\n",
    "plt.show()  # com + con + enter\n",
    "\n",
    "plt.title(\"virginica\")\n",
    "plt.xticks([1,2],[\"sepal_length\",\"petal_length\"])\n",
    "plt.ylim([2,8])\n",
    "plt.xlim([0,3])\n",
    "plt.grid()\n",
    "plt.violinplot(iris_list2,showmedians=True)  # 「リスト名」のところにリストの変数名を入れる\n",
    "plt.show()  # com + con + enter\n"
   ]
  },
  {
   "cell_type": "markdown",
   "id": "df344f87",
   "metadata": {},
   "source": [
    "【問題3】前処理・訓練データと検証データの分割"
   ]
  },
  {
   "cell_type": "code",
   "execution_count": 89,
   "id": "224558f1",
   "metadata": {},
   "outputs": [
    {
     "name": "stdout",
     "output_type": "stream",
     "text": [
      "[[6.3 4.4]\n",
      " [5.2 3.9]\n",
      " [5.6 4.5]\n",
      " [6.3 5. ]\n",
      " [6.4 4.5]\n",
      " [6.3 5.1]\n",
      " [7.2 5.8]\n",
      " [5.6 4.1]\n",
      " [6.3 6. ]\n",
      " [5.9 4.2]\n",
      " [6.7 4.7]\n",
      " [5.8 5.1]\n",
      " [6.1 4. ]\n",
      " [5.8 3.9]\n",
      " [5.6 3.9]\n",
      " [6.7 5.8]\n",
      " [6.3 4.7]\n",
      " [6.1 4.7]\n",
      " [7.1 5.9]\n",
      " [6.1 5.6]\n",
      " [5.9 5.1]\n",
      " [6.3 4.9]\n",
      " [6.  4.5]\n",
      " [7.7 6.1]\n",
      " [6.  4.8]\n",
      " [5.5 4. ]\n",
      " [6.6 4.4]\n",
      " [6.4 5.5]\n",
      " [5.  3.3]\n",
      " [7.3 6.3]\n",
      " [6.7 5. ]\n",
      " [6.7 5.7]\n",
      " [6.1 4.9]\n",
      " [7.7 6.9]\n",
      " [6.2 4.3]\n",
      " [6.6 4.6]\n",
      " [5.7 3.5]\n",
      " [6.7 5.7]\n",
      " [7.2 6.1]\n",
      " [7.7 6.7]\n",
      " [6.5 5.2]\n",
      " [5.5 3.7]\n",
      " [6.  4. ]\n",
      " [6.7 5.2]\n",
      " [6.4 5.3]\n",
      " [5.7 4.2]\n",
      " [6.7 5.6]\n",
      " [6.3 4.9]\n",
      " [7.6 6.6]\n",
      " [6.2 4.8]\n",
      " [5.7 4.2]\n",
      " [5.8 4. ]\n",
      " [5.7 5. ]\n",
      " [5.8 5.1]\n",
      " [5.7 4.5]\n",
      " [6.  5. ]\n",
      " [6.  4.5]\n",
      " [6.5 5.5]\n",
      " [6.7 4.4]\n",
      " [6.5 5.8]\n",
      " [6.4 4.3]\n",
      " [5.5 3.8]\n",
      " [6.8 5.5]\n",
      " [5.6 4.2]\n",
      " [6.2 4.5]\n",
      " [6.3 5.6]\n",
      " [6.8 5.9]\n",
      " [4.9 3.3]\n",
      " [5.8 4.1]\n",
      " [6.8 4.8]\n",
      " [6.9 5.1]\n",
      " [6.1 4.6]\n",
      " [7.  4.7]\n",
      " [5.  3.5]\n",
      " [6.9 4.9]]\n"
     ]
    }
   ],
   "source": [
    "from sklearn.model_selection import train_test_split\n",
    "\n",
    "iris_list_v_v = sample_data.loc[50:149,[\"sepal_length\",\"petal_length\"]]\n",
    "\n",
    "X = np.array(iris_list_v_v)#iris_list_virginica))\n",
    "y = np.array(Species_1)\n",
    "\n",
    "X_train, X_test, y_train, y_test = train_test_split(X, y, test_size=0.25)\n",
    "print(X_train)"
   ]
  },
  {
   "cell_type": "markdown",
   "id": "4abc51a0",
   "metadata": {},
   "source": [
    "【問題4】前処理・標準化"
   ]
  },
  {
   "cell_type": "code",
   "execution_count": 90,
   "id": "37976fe1",
   "metadata": {},
   "outputs": [
    {
     "name": "stdout",
     "output_type": "stream",
     "text": [
      "StandardScaler()\n",
      "[[ 0.04516035 -0.56825437]\n",
      " [-1.72899628 -1.18771771]\n",
      " [-1.08384841 -0.4443617 ]\n",
      " [ 0.04516035  0.17510164]\n",
      " [ 0.20644732 -0.4443617 ]\n",
      " [ 0.04516035  0.2989943 ]\n",
      " [ 1.49674304  1.16624298]\n",
      " [-1.08384841 -0.93993237]\n",
      " [ 0.04516035  1.41402831]\n",
      " [-0.59998751 -0.8160397 ]\n",
      " [ 0.69030821 -0.19657637]\n",
      " [-0.76127448  0.2989943 ]\n",
      " [-0.27741358 -1.06382504]\n",
      " [-0.76127448 -1.18771771]\n",
      " [-1.08384841 -1.18771771]\n",
      " [ 0.69030821  1.16624298]\n",
      " [ 0.04516035 -0.19657637]\n",
      " [-0.27741358 -0.19657637]\n",
      " [ 1.33545608  1.29013565]\n",
      " [-0.27741358  0.91845764]\n",
      " [-0.59998751  0.2989943 ]\n",
      " [ 0.04516035  0.05120897]\n",
      " [-0.43870055 -0.4443617 ]\n",
      " [ 2.30317787  1.53792098]\n",
      " [-0.43870055 -0.0726837 ]\n",
      " [-1.24513538 -1.06382504]\n",
      " [ 0.52902125 -0.56825437]\n",
      " [ 0.20644732  0.79456498]\n",
      " [-2.05157021 -1.93107371]\n",
      " [ 1.65803001  1.78570632]\n",
      " [ 0.69030821  0.17510164]\n",
      " [ 0.69030821  1.04235031]\n",
      " [-0.27741358  0.05120897]\n",
      " [ 2.30317787  2.52906232]\n",
      " [-0.11612662 -0.69214704]\n",
      " [ 0.52902125 -0.32046903]\n",
      " [-0.92256145 -1.68328838]\n",
      " [ 0.69030821  1.04235031]\n",
      " [ 1.49674304  1.53792098]\n",
      " [ 2.30317787  2.28127699]\n",
      " [ 0.36773428  0.42288697]\n",
      " [-1.24513538 -1.43550304]\n",
      " [-0.43870055 -1.06382504]\n",
      " [ 0.69030821  0.42288697]\n",
      " [ 0.20644732  0.54677964]\n",
      " [-0.92256145 -0.8160397 ]\n",
      " [ 0.69030821  0.91845764]\n",
      " [ 0.04516035  0.05120897]\n",
      " [ 2.14189091  2.15738432]\n",
      " [-0.11612662 -0.0726837 ]\n",
      " [-0.92256145 -0.8160397 ]\n",
      " [-0.76127448 -1.06382504]\n",
      " [-0.92256145  0.17510164]\n",
      " [-0.76127448  0.2989943 ]\n",
      " [-0.92256145 -0.4443617 ]\n",
      " [-0.43870055  0.17510164]\n",
      " [-0.43870055 -0.4443617 ]\n",
      " [ 0.36773428  0.79456498]\n",
      " [ 0.69030821 -0.56825437]\n",
      " [ 0.36773428  1.16624298]\n",
      " [ 0.20644732 -0.69214704]\n",
      " [-1.24513538 -1.31161038]\n",
      " [ 0.85159518  0.79456498]\n",
      " [-1.08384841 -0.8160397 ]\n",
      " [-0.11612662 -0.4443617 ]\n",
      " [ 0.04516035  0.91845764]\n",
      " [ 0.85159518  1.29013565]\n",
      " [-2.21285717 -1.93107371]\n",
      " [-0.76127448 -0.93993237]\n",
      " [ 0.85159518 -0.0726837 ]\n",
      " [ 1.01288215  0.2989943 ]\n",
      " [-0.27741358 -0.32046903]\n",
      " [ 1.17416911 -0.19657637]\n",
      " [-2.05157021 -1.68328838]\n",
      " [ 1.01288215  0.05120897]]\n",
      "[[ 1.49674304  1.41402831]\n",
      " [ 1.81931698  1.53792098]\n",
      " [ 0.04516035  0.91845764]\n",
      " [ 2.62575181  1.90959899]\n",
      " [-1.08384841 -1.55939571]\n",
      " [ 1.01288215  1.04235031]\n",
      " [-0.92256145 -0.93993237]\n",
      " [ 0.36773428  0.2989943 ]\n",
      " [-1.40642234 -0.4443617 ]\n",
      " [-0.59998751 -0.0726837 ]\n",
      " [-0.76127448  0.2989943 ]\n",
      " [-0.11612662  0.67067231]\n",
      " [-1.24513538 -0.56825437]\n",
      " [ 1.01288215  0.67067231]\n",
      " [ 0.20644732  0.91845764]\n",
      " [ 0.20644732  0.91845764]\n",
      " [ 0.20644732  0.54677964]\n",
      " [-1.08384841  0.05120897]\n",
      " [-1.24513538 -1.06382504]\n",
      " [-2.21285717 -0.4443617 ]\n",
      " [ 0.36773428 -0.32046903]\n",
      " [ 2.30317787  2.28127699]\n",
      " [-0.27741358 -0.19657637]\n",
      " [-1.89028324 -2.30275172]\n",
      " [-0.43870055  0.2989943 ]]\n"
     ]
    }
   ],
   "source": [
    "from sklearn.preprocessing import StandardScaler\n",
    "scaler = StandardScaler()\n",
    "print(scaler.fit(X_train))\n",
    "#print(scaler.mean_)\n",
    "#print(scaler.var_)\n",
    "X_train_trasformed= scaler.transform(X_train)\n",
    "X_test_trasformed= scaler.transform(X_test)\n",
    "print(X_train_trasformed)\n",
    "print(X_test_trasformed)"
   ]
  },
  {
   "cell_type": "markdown",
   "id": "ccc3bd5f",
   "metadata": {},
   "source": [
    "【問題5】学習と推定"
   ]
  },
  {
   "cell_type": "code",
   "execution_count": 91,
   "id": "fdf5f791",
   "metadata": {},
   "outputs": [
    {
     "name": "stdout",
     "output_type": "stream",
     "text": [
      "[1]\n",
      "[[0. 1.]]\n",
      "[1]\n",
      "[[0. 1.]]\n",
      "[1]\n",
      "[[0. 1.]]\n"
     ]
    }
   ],
   "source": [
    "from sklearn.neighbors import KNeighborsClassifier\n",
    "\n",
    "neigh = KNeighborsClassifier(n_neighbors=5)\n",
    "neigh.fit(X_train_trasformed, y_train)\n",
    "print(neigh.predict([[-1,-1]]))\n",
    "print(neigh.predict_proba([[1,1]]))\n",
    "\n",
    "neigh = KNeighborsClassifier(n_neighbors=3)\n",
    "neigh.fit(X_train_trasformed, y_train)\n",
    "print(neigh.predict([[-1,-1]]))\n",
    "print(neigh.predict_proba([[1,1]]))\n",
    "\n",
    "neigh = KNeighborsClassifier(n_neighbors=1)\n",
    "neigh.fit(X_train_trasformed, y_train)\n",
    "print(neigh.predict([[-1,-1]]))\n",
    "print(neigh.predict_proba([[1,1]]))"
   ]
  },
  {
   "cell_type": "markdown",
   "id": "57a4a187",
   "metadata": {},
   "source": [
    "【問題6】評価"
   ]
  },
  {
   "cell_type": "markdown",
   "id": "e20cbac8",
   "metadata": {},
   "source": [
    "scikit-learnを使い4種類の指標を計算する"
   ]
  },
  {
   "cell_type": "markdown",
   "id": "1b85744b",
   "metadata": {},
   "source": [
    "Accuracy（正解率）"
   ]
  },
  {
   "cell_type": "code",
   "execution_count": 92,
   "id": "ce221069",
   "metadata": {},
   "outputs": [
    {
     "name": "stdout",
     "output_type": "stream",
     "text": [
      "[2 2 2 2 1 2 1 2 1 1 2 2 1 2 2 2 2 2 1 2 1 2 1 1 1]\n",
      "[2 2 2 2 1 2 1 2 1 2 2 2 1 2 2 2 2 2 1 1 1 2 1 1 2]\n"
     ]
    },
    {
     "data": {
      "text/plain": [
       "0.88"
      ]
     },
     "execution_count": 92,
     "metadata": {},
     "output_type": "execute_result"
    }
   ],
   "source": [
    "#Accuracy（正解率）\n",
    "from sklearn.metrics import accuracy_score\n",
    "from sklearn import metrics\n",
    "from sklearn.metrics import classification_report\n",
    "\n",
    "neigh = KNeighborsClassifier(n_neighbors=3)\n",
    "neigh.fit(X_train_trasformed, y_train)\n",
    "\n",
    "y_pred = neigh.predict(X_test_trasformed)\n",
    "y_true = y_test\n",
    "print(y_true)\n",
    "print(y_pred)\n",
    "metrics.accuracy_score(y_true, y_pred)\n"
   ]
  },
  {
   "cell_type": "markdown",
   "id": "dbd8b81b",
   "metadata": {},
   "source": [
    "Precision（適合率）"
   ]
  },
  {
   "cell_type": "code",
   "execution_count": 93,
   "id": "c6229787",
   "metadata": {},
   "outputs": [
    {
     "name": "stdout",
     "output_type": "stream",
     "text": [
      "0.8819444444444444\n"
     ]
    }
   ],
   "source": [
    "#Precision（適合率)\n",
    "from sklearn.metrics import precision_score\n",
    "\n",
    "precision_score(y_true, y_pred, average='macro')\n",
    "precision_score(y_true, y_pred, average='micro')\n",
    "precision_score(y_true, y_pred, average='weighted')\n",
    "precision_score(y_true, y_pred, average=None)\n",
    "precision_score(y_true, y_pred, average=None)\n",
    "precision_score(y_true, y_pred, average=None, zero_division=1)\n",
    "\n",
    "print(precision_score(y_true, y_pred, average='macro'))"
   ]
  },
  {
   "cell_type": "markdown",
   "id": "cced2937",
   "metadata": {},
   "source": [
    "Recall（再現率) "
   ]
  },
  {
   "cell_type": "code",
   "execution_count": 94,
   "id": "fdfd81bf",
   "metadata": {},
   "outputs": [
    {
     "name": "stdout",
     "output_type": "stream",
     "text": [
      "0.8666666666666667\n"
     ]
    }
   ],
   "source": [
    "#Recall（再現率)\n",
    "from sklearn.metrics import recall_score\n",
    "\n",
    "recall_score(y_true, y_pred, average='macro')\n",
    "recall_score(y_true, y_pred, average='weighted')\n",
    "recall_score(y_true, y_pred, average=None)\n",
    "recall_score(y_true, y_pred, average=None)\n",
    "recall_score(y_true, y_pred, average=None, zero_division=1)\n",
    "\n",
    "print(recall_score(y_true, y_pred, average='macro'))"
   ]
  },
  {
   "cell_type": "markdown",
   "id": "4bb51708",
   "metadata": {},
   "source": [
    "F値 "
   ]
  },
  {
   "cell_type": "code",
   "execution_count": 95,
   "id": "84ee994a",
   "metadata": {},
   "outputs": [
    {
     "name": "stdout",
     "output_type": "stream",
     "text": [
      "0.8726655348047538\n"
     ]
    }
   ],
   "source": [
    "#F値\n",
    "from sklearn.metrics import f1_score\n",
    "\n",
    "f1_score(y_true, y_pred, average='macro')\n",
    "f1_score(y_true, y_pred, average='micro')\n",
    "f1_score(y_true, y_pred, average='weighted')\n",
    "f1_score(y_true, y_pred, average=None)\n",
    "f1_score(y_true, y_pred, zero_division=1)\n",
    "print(f1_score(y_true, y_pred, average='macro'))"
   ]
  },
  {
   "cell_type": "markdown",
   "id": "01991f92",
   "metadata": {},
   "source": [
    "混同行列をscikit-learnを使い表示する"
   ]
  },
  {
   "cell_type": "code",
   "execution_count": 96,
   "id": "fb4296f9",
   "metadata": {},
   "outputs": [
    {
     "name": "stdout",
     "output_type": "stream",
     "text": [
      "[[ 8  2]\n",
      " [ 1 14]]\n"
     ]
    }
   ],
   "source": [
    "#混同行列（confusion matrix）\n",
    "from sklearn.metrics import confusion_matrix\n",
    "\n",
    "confusion_matrix(y_true, y_pred)\n",
    "print(confusion_matrix(y_true, y_pred))"
   ]
  },
  {
   "cell_type": "markdown",
   "id": "cbb20927",
   "metadata": {},
   "source": [
    "4種類の指標値の意味について簡単に調査して文章でまとめる"
   ]
  },
  {
   "cell_type": "markdown",
   "id": "21b2c7bd",
   "metadata": {},
   "source": [
    "正解率とは、全予測を母数とし、正しい予測をした割合"
   ]
  },
  {
   "cell_type": "markdown",
   "id": "9ad5c9ce",
   "metadata": {},
   "source": [
    "適合率とは、予測で正と判断した数を母数とし、実際に正だった場合の割合"
   ]
  },
  {
   "cell_type": "markdown",
   "id": "c8d7d603",
   "metadata": {},
   "source": [
    "再現率とは、実際の正の数を母数とした時の予測が正だった割合"
   ]
  },
  {
   "cell_type": "markdown",
   "id": "7e166c05",
   "metadata": {},
   "source": [
    "F値とは適合率と再現率の調和平均"
   ]
  },
  {
   "cell_type": "markdown",
   "id": "97cf1c78",
   "metadata": {},
   "source": [
    "【問題7】可視化"
   ]
  },
  {
   "cell_type": "code",
   "execution_count": 97,
   "id": "5d57d56e",
   "metadata": {},
   "outputs": [],
   "source": [
    "import matplotlib.pyplot as plt\n",
    "from matplotlib.colors import ListedColormap\n",
    "import matplotlib.patches as mpatches\n",
    "#\n",
    "#\n",
    "def decision_region(X, y, model, step=0.01, title='decision region', xlabel='xlabel', ylabel='ylabel', target_names=['versicolor', 'virginica']):\n",
    "    \"\"\"\n",
    "    2値分類を2次元の特徴量で学習したモデルの決定領域を描く。\n",
    "    背景の色が学習したモデルによる推定値から描画される。\n",
    "    散布図の点は訓練データまたは検証データである。\n",
    "    Parameters\n",
    "    ----------------\n",
    "    X : ndarray, shape(n_samples, 2)\n",
    "        特徴量\n",
    "    y : ndarray, shape(n_samples,)\n",
    "        ラベル\n",
    "    model : object\n",
    "        学習したモデルのインスンタスを入れる\n",
    "    step : float, (default : 0.1)\n",
    "        推定値を計算する間隔を設定する\n",
    "    title : str\n",
    "        グラフのタイトルの文章を与える\n",
    "    xlabel, ylabel : str\n",
    "        軸ラベルの文章を与える\n",
    "    target_names= : list of str\n",
    "        凡例の一覧を与える\n",
    "    \"\"\"\n",
    "    # setting\n",
    "    scatter_color = ['red', 'blue']\n",
    "    contourf_color = ['pink', 'skyblue']\n",
    "    n_class = 2\n",
    "    # pred\n",
    "    mesh_f0, mesh_f1  = np.meshgrid(np.arange(np.min(X[:,0])-0.5, np.max(X[:,0])+0.5, step), np.arange(np.min(X[:,1])-0.5, np.max(X[:,1])+0.5, step))\n",
    "    mesh = np.c_[np.ravel(mesh_f0),np.ravel(mesh_f1)]\n",
    "    y_pred = model.predict(mesh).reshape(mesh_f0.shape)\n",
    "    # plot\n",
    "    plt.title(title)\n",
    "    plt.xlabel(xlabel)\n",
    "    plt.ylabel(ylabel)\n",
    "    plt.contourf(mesh_f0, mesh_f1, y_pred, n_class-1, cmap=ListedColormap(contourf_color))\n",
    "    plt.contour(mesh_f0, mesh_f1, y_pred, n_class-1, colors='y', linewidths=3, alpha=0.5)\n",
    "    for i, target in enumerate(set(y)):\n",
    "        plt.scatter(X[y==target][:, 0], X[y==target][:, 1], s=80, color=scatter_color[i], label=target_names[i], marker='o')\n",
    "    patches = [mpatches.Patch(color=scatter_color[i], label=target_names[i]) for i in range(n_class)]\n",
    "    plt.legend(handles=patches)\n",
    "    plt.legend()\n",
    "    plt.show()\n",
    "\n"
   ]
  },
  {
   "cell_type": "code",
   "execution_count": 98,
   "id": "f7581a79",
   "metadata": {},
   "outputs": [
    {
     "name": "stdout",
     "output_type": "stream",
     "text": [
      "confusion matrix = \n",
      " [[ 8  2]\n",
      " [ 1 14]]\n",
      "accuracy =  0.88\n",
      "precision =  0.8888888888888888\n",
      "recall =  0.8\n",
      "f1 score =  0.8421052631578948\n",
      "                   1          2  accuracy  macro avg  weighted avg\n",
      "precision   0.888889   0.875000      0.88   0.881944      0.880556\n",
      "recall      0.800000   0.933333      0.88   0.866667      0.880000\n",
      "f1-score    0.842105   0.903226      0.88   0.872666      0.878778\n",
      "support    10.000000  15.000000      0.88  25.000000     25.000000\n"
     ]
    },
    {
     "data": {
      "image/png": "[encoded data removed]",
      "text/plain": [
       "<Figure size 432x288 with 1 Axes>"
      ]
     },
     "metadata": {
      "needs_background": "light"
     },
     "output_type": "display_data"
    }
   ],
   "source": [
    "print('confusion matrix = \\n', confusion_matrix(y_true, y_pred))\n",
    "print('accuracy = ', accuracy_score(y_true, y_pred))\n",
    "print('precision = ', precision_score(y_true, y_pred))\n",
    "print('recall = ', recall_score(y_true, y_pred))\n",
    "print('f1 score = ', f1_score(y_true, y_pred))\n",
    "\n",
    "d = classification_report(y_true, y_pred, output_dict=True)\n",
    "df = pd.DataFrame(d)\n",
    "print(df)\n",
    "\n",
    "\n",
    "decision_region(X_train_trasformed,y_train,model=neigh,step=0.01,title='decision region',xlabel='xlabel',ylabel='ylabel',target_names=['versicolor', 'virginica'])"
   ]
  },
  {
   "cell_type": "markdown",
   "id": "4afe3403",
   "metadata": {},
   "source": [
    "【問題8】他の手法の学習"
   ]
  },
  {
   "cell_type": "markdown",
   "id": "77f31f19",
   "metadata": {},
   "source": [
    "ロジスティック回帰"
   ]
  },
  {
   "cell_type": "code",
   "execution_count": 99,
   "id": "c932050f",
   "metadata": {},
   "outputs": [
    {
     "name": "stdout",
     "output_type": "stream",
     "text": [
      "confusion matrix = \n",
      " [[ 9  1]\n",
      " [ 1 14]]\n",
      "accuracy =  0.92\n",
      "precision =  0.9\n",
      "recall =  0.9\n",
      "f1 score =  0.9\n",
      "              1          2  accuracy  macro avg  weighted avg\n",
      "precision   0.9   0.933333      0.92   0.916667          0.92\n",
      "recall      0.9   0.933333      0.92   0.916667          0.92\n",
      "f1-score    0.9   0.933333      0.92   0.916667          0.92\n",
      "support    10.0  15.000000      0.92  25.000000         25.00\n"
     ]
    },
    {
     "data": {
      "image/png": "[encoded data removed]",
      "text/plain": [
       "<Figure size 432x288 with 1 Axes>"
      ]
     },
     "metadata": {
      "needs_background": "light"
     },
     "output_type": "display_data"
    }
   ],
   "source": [
    "from sklearn.linear_model import LogisticRegression\n",
    "\n",
    "clf = LogisticRegression(random_state=0)\n",
    "clf.fit(X_train_trasformed, y_train)\n",
    "y_true = y_test\n",
    "y_pred = clf.predict(X_test_trasformed)\n",
    "clf.predict(X_train_trasformed)\n",
    "clf.predict_proba(X_train_trasformed)\n",
    "clf.score(X_train_trasformed, y_train)\n",
    "\n",
    "print('confusion matrix = \\n', confusion_matrix(y_true, y_pred))\n",
    "print('accuracy = ', accuracy_score(y_true, y_pred))\n",
    "print('precision = ', precision_score(y_true, y_pred))\n",
    "print('recall = ', recall_score(y_true, y_pred))\n",
    "print('f1 score = ', f1_score(y_true, y_pred))\n",
    "\n",
    "d1 = classification_report(y_true, y_pred, output_dict=True)\n",
    "df1 = pd.DataFrame(d1)\n",
    "print(df1)\n",
    "\n",
    "decision_region(X_train_trasformed, y_train, model=clf, step=0.01, title='decision region', xlabel='xlabel', ylabel='ylabel', target_names=['versicolor', 'virginica'])\n"
   ]
  },
  {
   "cell_type": "markdown",
   "id": "58f5053b",
   "metadata": {},
   "source": [
    "SVM"
   ]
  },
  {
   "cell_type": "code",
   "execution_count": 100,
   "id": "b26122ca",
   "metadata": {},
   "outputs": [
    {
     "name": "stdout",
     "output_type": "stream",
     "text": [
      "confusion matrix = \n",
      " [[ 8  2]\n",
      " [ 1 14]]\n",
      "accuracy =  0.88\n",
      "precision =  0.8888888888888888\n",
      "recall =  0.8\n",
      "f1 score =  0.8421052631578948\n",
      "                   1          2  accuracy  macro avg  weighted avg\n",
      "precision   0.888889   0.875000      0.88   0.881944      0.880556\n",
      "recall      0.800000   0.933333      0.88   0.866667      0.880000\n",
      "f1-score    0.842105   0.903226      0.88   0.872666      0.878778\n",
      "support    10.000000  15.000000      0.88  25.000000     25.000000\n"
     ]
    },
    {
     "data": {
      "image/png": "[encoded data removed]",
      "text/plain": [
       "<Figure size 432x288 with 1 Axes>"
      ]
     },
     "metadata": {
      "needs_background": "light"
     },
     "output_type": "display_data"
    }
   ],
   "source": [
    "from sklearn.pipeline import make_pipeline\n",
    "from sklearn.preprocessing import StandardScaler\n",
    "from sklearn.svm import SVC\n",
    "clf1 = make_pipeline(StandardScaler(), SVC(gamma='auto'))\n",
    "clf1.fit(X_train_trasformed, y_train)\n",
    "y_true = y_test\n",
    "y_pred = clf1.predict(X_test_trasformed)\n",
    "\n",
    "\n",
    "print('confusion matrix = \\n', confusion_matrix(y_true, y_pred))\n",
    "print('accuracy = ', accuracy_score(y_true, y_pred))\n",
    "print('precision = ', precision_score(y_true, y_pred))\n",
    "print('recall = ', recall_score(y_true, y_pred))\n",
    "print('f1 score = ', f1_score(y_true, y_pred))\n",
    "\n",
    "d2 = classification_report(y_true, y_pred, output_dict=True)\n",
    "df2 = pd.DataFrame(d2)\n",
    "print(df2)\n",
    "\n",
    "decision_region(X_train_trasformed, y_train, model=clf1, step=0.01, title='decision region', xlabel='xlabel', ylabel='ylabel', target_names=['versicolor', 'virginica'])\n"
   ]
  },
  {
   "cell_type": "markdown",
   "id": "0329ee8a",
   "metadata": {},
   "source": [
    "決定木"
   ]
  },
  {
   "cell_type": "code",
   "execution_count": 101,
   "id": "d6b3e8d8",
   "metadata": {},
   "outputs": [
    {
     "name": "stdout",
     "output_type": "stream",
     "text": [
      "confusion matrix = \n",
      " [[ 8  2]\n",
      " [ 1 14]]\n",
      "accuracy =  0.88\n",
      "precision =  0.8888888888888888\n",
      "recall =  0.8\n",
      "f1 score =  0.8421052631578948\n",
      "                   1          2  accuracy  macro avg  weighted avg\n",
      "precision   0.888889   0.875000      0.88   0.881944      0.880556\n",
      "recall      0.800000   0.933333      0.88   0.866667      0.880000\n",
      "f1-score    0.842105   0.903226      0.88   0.872666      0.878778\n",
      "support    10.000000  15.000000      0.88  25.000000     25.000000\n"
     ]
    },
    {
     "data": {
      "image/png": "[encoded data removed]",
      "text/plain": [
       "<Figure size 432x288 with 1 Axes>"
      ]
     },
     "metadata": {
      "needs_background": "light"
     },
     "output_type": "display_data"
    }
   ],
   "source": [
    "from sklearn.model_selection import cross_val_score\n",
    "from sklearn.tree import DecisionTreeClassifier\n",
    "clf2 = DecisionTreeClassifier(random_state=0)\n",
    "clf2.fit(X_train_trasformed, y_train)\n",
    "cross_val_score(clf2, X_train_trasformed, y_train, cv=10)\n",
    "y_true = y_test\n",
    "y_pred = clf2.predict(X_test_trasformed)\n",
    "\n",
    "\n",
    "print('confusion matrix = \\n', confusion_matrix(y_true, y_pred))\n",
    "print('accuracy = ', accuracy_score(y_true, y_pred))\n",
    "print('precision = ', precision_score(y_true, y_pred))\n",
    "print('recall = ', recall_score(y_true, y_pred))\n",
    "print('f1 score = ', f1_score(y_true, y_pred))\n",
    "\n",
    "d3 = classification_report(y_true, y_pred, output_dict=True)\n",
    "df3 = pd.DataFrame(d3)\n",
    "print(df3)\n",
    "\n",
    "decision_region(X_train_trasformed, y_train, model=clf2, step=0.01, title='decision region', xlabel='xlabel', ylabel='ylabel', target_names=['versicolor', 'virginica'])\n",
    "      \n"
   ]
  },
  {
   "cell_type": "markdown",
   "id": "ad476e23",
   "metadata": {},
   "source": [
    "ランダムフォレスト"
   ]
  },
  {
   "cell_type": "code",
   "execution_count": 102,
   "id": "501c0484",
   "metadata": {},
   "outputs": [
    {
     "name": "stdout",
     "output_type": "stream",
     "text": [
      "confusion matrix = \n",
      " [[ 8  2]\n",
      " [ 2 13]]\n",
      "accuracy =  0.84\n",
      "precision =  0.8\n",
      "recall =  0.8\n",
      "f1 score =  0.8000000000000002\n",
      "              1          2  accuracy  macro avg  weighted avg\n",
      "precision   0.8   0.866667      0.84   0.833333          0.84\n",
      "recall      0.8   0.866667      0.84   0.833333          0.84\n",
      "f1-score    0.8   0.866667      0.84   0.833333          0.84\n",
      "support    10.0  15.000000      0.84  25.000000         25.00\n"
     ]
    },
    {
     "data": {
      "image/png": "[encoded data removed]",
      "text/plain": [
       "<Figure size 432x288 with 1 Axes>"
      ]
     },
     "metadata": {
      "needs_background": "light"
     },
     "output_type": "display_data"
    }
   ],
   "source": [
    "from sklearn.ensemble import RandomForestClassifier\n",
    "from sklearn.datasets import make_classification\n",
    "X, y = make_classification(n_samples=1000, n_features=4,n_informative=2, n_redundant=0,random_state=0, shuffle=False)\n",
    "clf3 = RandomForestClassifier(max_depth=2, random_state=0)\n",
    "clf3.fit(X_train_trasformed, y_train)\n",
    "y_true = y_test\n",
    "y_pred = clf3.predict(X_test_trasformed)\n",
    "\n",
    "\n",
    "print('confusion matrix = \\n', confusion_matrix(y_true, y_pred))\n",
    "print('accuracy = ', accuracy_score(y_true, y_pred))\n",
    "print('precision = ', precision_score(y_true, y_pred))\n",
    "print('recall = ', recall_score(y_true, y_pred))\n",
    "print('f1 score = ', f1_score(y_true, y_pred))\n",
    "\n",
    "d4 = classification_report(y_true, y_pred, output_dict=True)\n",
    "df4 = pd.DataFrame(d4)\n",
    "print(df4)\n",
    "\n",
    "decision_region(X_train_trasformed, y_train, model=clf3, step=0.01, title='decision region', xlabel='xlabel', ylabel='ylabel', target_names=['versicolor', 'virginica'])\n"
   ]
  },
  {
   "cell_type": "markdown",
   "id": "643420e0",
   "metadata": {},
   "source": [
    "どの手法がどの指標値で良かったかや、どういった決定領域になっていたかを述べてください。"
   ]
  },
  {
   "cell_type": "code",
   "execution_count": null,
   "id": "b84df2fa",
   "metadata": {},
   "outputs": [],
   "source": [
    "最近傍法　　　　　　:空間における最も近い訓練例に基づいた分類の手法\n",
    "ロジスティック回帰   :２値の場合だと信頼性が増す\n",
    "SVM                       :２つのグループ間の最も距離の離れた箇所（最大マージン）を見つけ出し、その真ん中に識別の線を引く。\n",
    "決定木                     :分類を細かく判断し、微調整しながら境界を決めている\n",
    "ランダムフォレスト    :大量のデータを必要とするが、精度の高い予測/分類を行える"
   ]
  }
 ],
 "metadata": {
  "kernelspec": {
   "display_name": "Python 3",
   "language": "python",
   "name": "python3"
  },
  "language_info": {
   "codemirror_mode": {
    "name": "ipython",
    "version": 3
   },
   "file_extension": ".py",
   "mimetype": "text/x-python",
   "name": "python",
   "nbconvert_exporter": "python",
   "pygments_lexer": "ipython3",
   "version": "3.8.8"
  }
 },
 "nbformat": 4,
 "nbformat_minor": 5
}
